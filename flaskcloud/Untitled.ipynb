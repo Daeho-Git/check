{
 "cells": [
  {
   "cell_type": "code",
   "execution_count": 1,
   "id": "1fd28f3a",
   "metadata": {},
   "outputs": [
    {
     "name": "stdout",
     "output_type": "stream",
     "text": [
      "Model accuracy on test set: 91.63%\n",
      "Model trained and saved as 'mnist_model.pkl'\n"
     ]
    }
   ],
   "source": [
    "# model_train.py\n",
    "from sklearn.datasets import fetch_openml\n",
    "from sklearn.model_selection import train_test_split\n",
    "from sklearn.linear_model import LogisticRegression\n",
    "import joblib\n",
    "import warnings\n",
    "\n",
    "warnings.filterwarnings(\"ignore\")\n",
    "\n",
    "# 데이터 로드\n",
    "mnist = fetch_openml('mnist_784', version=1, as_frame=False)\n",
    "X, y = mnist.data, mnist.target.astype(int)\n",
    "\n",
    "# 데이터 분할\n",
    "X_train, X_test, y_train, y_test = train_test_split(X, y, test_size=0.2, random_state=42)\n",
    "\n",
    "# 모델 학습 (로지스틱 회귀)\n",
    "model = LogisticRegression(max_iter=1000, solver='lbfgs', multi_class='multinomial')\n",
    "model.fit(X_train, y_train)\n",
    "\n",
    "# 모델 평가\n",
    "accuracy = model.score(X_test, y_test)\n",
    "print(f'Model accuracy on test set: {accuracy * 100:.2f}%')\n",
    "\n",
    "# 모델 저장\n",
    "joblib.dump(model, 'mnist_model.pkl')\n",
    "print(\"Model trained and saved as 'mnist_model.pkl'\")\n"
   ]
  }
 ],
 "metadata": {
  "kernelspec": {
   "display_name": "norse",
   "language": "python",
   "name": "norse"
  },
  "language_info": {
   "codemirror_mode": {
    "name": "ipython",
    "version": 3
   },
   "file_extension": ".py",
   "mimetype": "text/x-python",
   "name": "python",
   "nbconvert_exporter": "python",
   "pygments_lexer": "ipython3",
   "version": "3.11.3"
  }
 },
 "nbformat": 4,
 "nbformat_minor": 5
}
